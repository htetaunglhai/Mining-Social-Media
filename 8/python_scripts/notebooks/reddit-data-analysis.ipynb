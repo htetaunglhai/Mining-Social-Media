{
 "cells": [
  {
   "cell_type": "code",
   "execution_count": 4,
   "metadata": {
    "scrolled": true
   },
   "outputs": [],
   "source": [
    "import pandas as pd\n",
    "ask_science_data = pd.read_csv(r\"../data/askscience_submissions.csv\", low_memory=False)"
   ]
  },
  {
   "cell_type": "code",
   "execution_count": 5,
   "metadata": {
    "scrolled": true
   },
   "outputs": [
    {
     "name": "stdout",
     "output_type": "stream",
     "text": [
      "Index(['approved_at_utc', 'archived', 'author', 'author_cakeday',\n",
      "       'author_flair_css_class', 'author_flair_text', 'banned_at_utc',\n",
      "       'brand_safe', 'can_gild', 'can_mod_post', 'contest_mode', 'created',\n",
      "       'created_utc', 'crosspost_parent', 'crosspost_parent_list',\n",
      "       'distinguished', 'domain', 'edited', 'from', 'from_id', 'from_kind',\n",
      "       'gilded', 'hidden', 'hide_score', 'id', 'is_crosspostable',\n",
      "       'is_reddit_media_domain', 'is_self', 'is_video', 'link_flair_css_class',\n",
      "       'link_flair_text', 'locked', 'media', 'media_embed', 'name',\n",
      "       'num_comments', 'over_18', 'parent_whitelist_status', 'permalink',\n",
      "       'pinned', 'post_hint', 'preview', 'quarantine', 'retrieved_on', 'saved',\n",
      "       'score', 'secure_media', 'secure_media_embed', 'selftext', 'spoiler',\n",
      "       'stickied', 'subreddit', 'subreddit_id', 'subreddit_type',\n",
      "       'suggested_sort', 'thumbnail', 'thumbnail_height', 'thumbnail_width',\n",
      "       'title', 'ups', 'url', 'whitelist_status'],\n",
      "      dtype='object')\n"
     ]
    }
   ],
   "source": [
    "print(ask_science_data.columns)"
   ]
  },
  {
   "cell_type": "code",
   "execution_count": 6,
   "metadata": {},
   "outputs": [],
   "source": [
    "columns = ['title','ups', 'num_comments']\n",
    "ask_science_reduced = ask_science_data[columns]"
   ]
  },
  {
   "cell_type": "code",
   "execution_count": 7,
   "metadata": {},
   "outputs": [],
   "source": [
    "ask_science_dropped_rows = ask_science_reduced.dropna(subset=['ups', 'num_comments'])\n"
   ]
  },
  {
   "cell_type": "code",
   "execution_count": 8,
   "metadata": {},
   "outputs": [],
   "source": [
    "ask_science_data['num_comments'] = ask_science_data['num_comments'].fillna(value=0)\n"
   ]
  },
  {
   "cell_type": "code",
   "execution_count": 15,
   "metadata": {},
   "outputs": [
    {
     "name": "stderr",
     "output_type": "stream",
     "text": [
      "<ipython-input-15-26521db1a806>:1: SettingWithCopyWarning: \n",
      "A value is trying to be set on a copy of a slice from a DataFrame.\n",
      "Try using .loc[row_indexer,col_indexer] = value instead\n",
      "\n",
      "See the caveats in the documentation: https://pandas.pydata.org/pandas-docs/stable/user_guide/indexing.html#returning-a-view-versus-a-copy\n",
      "  ask_science_dropped_rows['contain_vaccin'] = ask_science_dropped_rows['title'].str.contains('vaccin')\n"
     ]
    },
    {
     "data": {
      "text/plain": [
       "0    False\n",
       "1    False\n",
       "2    False\n",
       "3    False\n",
       "4    False\n",
       "Name: contain_vaccin, dtype: object"
      ]
     },
     "execution_count": 15,
     "metadata": {},
     "output_type": "execute_result"
    }
   ],
   "source": [
    "ask_science_dropped_rows['contain_vaccin'] = ask_science_dropped_rows['title'].str.contains('vaccin')\n"
   ]
  },
  {
   "cell_type": "code",
   "execution_count": 23,
   "metadata": {},
   "outputs": [],
   "source": [
    "ask_science_data_vaccinations  = ask_science_dropped_rows[ask_science_dropped_rows['contain_vaccin']==True]\n",
    "ask_science_data_no_vaccinations  = ask_science_dropped_rows[ask_science_dropped_rows['contain_vaccin']==False]\n"
   ]
  },
  {
   "cell_type": "code",
   "execution_count": 24,
   "metadata": {},
   "outputs": [
    {
     "name": "stderr",
     "output_type": "stream",
     "text": [
      "<ipython-input-24-49ceddc124e6>:1: SettingWithCopyWarning: \n",
      "A value is trying to be set on a copy of a slice from a DataFrame.\n",
      "Try using .loc[row_indexer,col_indexer] = value instead\n",
      "\n",
      "See the caveats in the documentation: https://pandas.pydata.org/pandas-docs/stable/user_guide/indexing.html#returning-a-view-versus-a-copy\n",
      "  ask_science_data_vaccinations['combined_reactions'] = ask_science_data_vaccinations['ups'] + ask_science_data_vaccinations['num_comments']\n",
      "<ipython-input-24-49ceddc124e6>:2: SettingWithCopyWarning: \n",
      "A value is trying to be set on a copy of a slice from a DataFrame.\n",
      "Try using .loc[row_indexer,col_indexer] = value instead\n",
      "\n",
      "See the caveats in the documentation: https://pandas.pydata.org/pandas-docs/stable/user_guide/indexing.html#returning-a-view-versus-a-copy\n",
      "  ask_science_data_no_vaccinations['combined_reactions'] = ask_science_data_no_vaccinations['ups'] + ask_science_data_no_vaccinations['num_comments']\n"
     ]
    },
    {
     "data": {
      "text/html": [
       "<div>\n",
       "<style scoped>\n",
       "    .dataframe tbody tr th:only-of-type {\n",
       "        vertical-align: middle;\n",
       "    }\n",
       "\n",
       "    .dataframe tbody tr th {\n",
       "        vertical-align: top;\n",
       "    }\n",
       "\n",
       "    .dataframe thead th {\n",
       "        text-align: right;\n",
       "    }\n",
       "</style>\n",
       "<table border=\"1\" class=\"dataframe\">\n",
       "  <thead>\n",
       "    <tr style=\"text-align: right;\">\n",
       "      <th></th>\n",
       "      <th>title</th>\n",
       "      <th>ups</th>\n",
       "      <th>num_comments</th>\n",
       "      <th>contain_vaccin</th>\n",
       "      <th>combined_reactions</th>\n",
       "    </tr>\n",
       "  </thead>\n",
       "  <tbody>\n",
       "    <tr>\n",
       "      <th>478273</th>\n",
       "      <td>Is the US power grid interconnected enough to ...</td>\n",
       "      <td>1.0</td>\n",
       "      <td>0.0</td>\n",
       "      <td>False</td>\n",
       "      <td>1.0</td>\n",
       "    </tr>\n",
       "    <tr>\n",
       "      <th>478274</th>\n",
       "      <td>Tying and pulling the sun (hypothetical question)</td>\n",
       "      <td>1.0</td>\n",
       "      <td>1.0</td>\n",
       "      <td>False</td>\n",
       "      <td>2.0</td>\n",
       "    </tr>\n",
       "    <tr>\n",
       "      <th>478275</th>\n",
       "      <td>Does not eating before drinking alcohol actual...</td>\n",
       "      <td>1.0</td>\n",
       "      <td>1.0</td>\n",
       "      <td>False</td>\n",
       "      <td>2.0</td>\n",
       "    </tr>\n",
       "    <tr>\n",
       "      <th>478276</th>\n",
       "      <td>is it likely to get cancer twice?</td>\n",
       "      <td>1.0</td>\n",
       "      <td>1.0</td>\n",
       "      <td>False</td>\n",
       "      <td>2.0</td>\n",
       "    </tr>\n",
       "    <tr>\n",
       "      <th>478277</th>\n",
       "      <td>How fast does information travel (hypothetical...</td>\n",
       "      <td>1.0</td>\n",
       "      <td>2.0</td>\n",
       "      <td>False</td>\n",
       "      <td>3.0</td>\n",
       "    </tr>\n",
       "  </tbody>\n",
       "</table>\n",
       "</div>"
      ],
      "text/plain": [
       "                                                    title  ups  num_comments  \\\n",
       "478273  Is the US power grid interconnected enough to ...  1.0           0.0   \n",
       "478274  Tying and pulling the sun (hypothetical question)  1.0           1.0   \n",
       "478275  Does not eating before drinking alcohol actual...  1.0           1.0   \n",
       "478276                  is it likely to get cancer twice?  1.0           1.0   \n",
       "478277  How fast does information travel (hypothetical...  1.0           2.0   \n",
       "\n",
       "       contain_vaccin  combined_reactions  \n",
       "478273          False                 1.0  \n",
       "478274          False                 2.0  \n",
       "478275          False                 2.0  \n",
       "478276          False                 2.0  \n",
       "478277          False                 3.0  "
      ]
     },
     "execution_count": 24,
     "metadata": {},
     "output_type": "execute_result"
    }
   ],
   "source": [
    "ask_science_data_vaccinations['combined_reactions'] = ask_science_data_vaccinations['ups'] + ask_science_data_vaccinations['num_comments']\n",
    "ask_science_data_no_vaccinations['combined_reactions'] = ask_science_data_no_vaccinations['ups'] + ask_science_data_no_vaccinations['num_comments']\n"
   ]
  },
  {
   "cell_type": "code",
   "execution_count": 27,
   "metadata": {},
   "outputs": [
    {
     "data": {
      "text/html": [
       "<div>\n",
       "<style scoped>\n",
       "    .dataframe tbody tr th:only-of-type {\n",
       "        vertical-align: middle;\n",
       "    }\n",
       "\n",
       "    .dataframe tbody tr th {\n",
       "        vertical-align: top;\n",
       "    }\n",
       "\n",
       "    .dataframe thead th {\n",
       "        text-align: right;\n",
       "    }\n",
       "</style>\n",
       "<table border=\"1\" class=\"dataframe\">\n",
       "  <thead>\n",
       "    <tr style=\"text-align: right;\">\n",
       "      <th></th>\n",
       "      <th>title</th>\n",
       "      <th>ups</th>\n",
       "      <th>num_comments</th>\n",
       "      <th>contain_vaccin</th>\n",
       "      <th>combined_reactions</th>\n",
       "    </tr>\n",
       "  </thead>\n",
       "  <tbody>\n",
       "    <tr>\n",
       "      <th>177230</th>\n",
       "      <td>I keep hearing about outbreaks of measles and ...</td>\n",
       "      <td>3621.0</td>\n",
       "      <td>662.0</td>\n",
       "      <td>True</td>\n",
       "      <td>4283.0</td>\n",
       "    </tr>\n",
       "    <tr>\n",
       "      <th>133287</th>\n",
       "      <td>Why are we afraid of making super bugs with an...</td>\n",
       "      <td>2377.0</td>\n",
       "      <td>548.0</td>\n",
       "      <td>True</td>\n",
       "      <td>2925.0</td>\n",
       "    </tr>\n",
       "    <tr>\n",
       "      <th>143663</th>\n",
       "      <td>Psychologically speaking, how can a person con...</td>\n",
       "      <td>1775.0</td>\n",
       "      <td>461.0</td>\n",
       "      <td>True</td>\n",
       "      <td>2236.0</td>\n",
       "    </tr>\n",
       "    <tr>\n",
       "      <th>82615</th>\n",
       "      <td>If unvaccinated people are causing outbreaks, ...</td>\n",
       "      <td>619.0</td>\n",
       "      <td>146.0</td>\n",
       "      <td>True</td>\n",
       "      <td>765.0</td>\n",
       "    </tr>\n",
       "    <tr>\n",
       "      <th>10563</th>\n",
       "      <td>How are combined vaccinations established? Who...</td>\n",
       "      <td>510.0</td>\n",
       "      <td>56.0</td>\n",
       "      <td>True</td>\n",
       "      <td>566.0</td>\n",
       "    </tr>\n",
       "    <tr>\n",
       "      <th>...</th>\n",
       "      <td>...</td>\n",
       "      <td>...</td>\n",
       "      <td>...</td>\n",
       "      <td>...</td>\n",
       "      <td>...</td>\n",
       "    </tr>\n",
       "    <tr>\n",
       "      <th>178795</th>\n",
       "      <td>Is childhood vaccination necessary?</td>\n",
       "      <td>0.0</td>\n",
       "      <td>0.0</td>\n",
       "      <td>True</td>\n",
       "      <td>0.0</td>\n",
       "    </tr>\n",
       "    <tr>\n",
       "      <th>46823</th>\n",
       "      <td>Am I still protected from diseases I was vacci...</td>\n",
       "      <td>0.0</td>\n",
       "      <td>0.0</td>\n",
       "      <td>True</td>\n",
       "      <td>0.0</td>\n",
       "    </tr>\n",
       "    <tr>\n",
       "      <th>72488</th>\n",
       "      <td>why are vaccines not given intravenously?</td>\n",
       "      <td>0.0</td>\n",
       "      <td>0.0</td>\n",
       "      <td>True</td>\n",
       "      <td>0.0</td>\n",
       "    </tr>\n",
       "    <tr>\n",
       "      <th>48697</th>\n",
       "      <td>Can someone explain the difference between hom...</td>\n",
       "      <td>0.0</td>\n",
       "      <td>0.0</td>\n",
       "      <td>True</td>\n",
       "      <td>0.0</td>\n",
       "    </tr>\n",
       "    <tr>\n",
       "      <th>168645</th>\n",
       "      <td>Doctors and immunologists, are there any dange...</td>\n",
       "      <td>0.0</td>\n",
       "      <td>0.0</td>\n",
       "      <td>True</td>\n",
       "      <td>0.0</td>\n",
       "    </tr>\n",
       "  </tbody>\n",
       "</table>\n",
       "<p>1272 rows × 5 columns</p>\n",
       "</div>"
      ],
      "text/plain": [
       "                                                    title     ups  \\\n",
       "177230  I keep hearing about outbreaks of measles and ...  3621.0   \n",
       "133287  Why are we afraid of making super bugs with an...  2377.0   \n",
       "143663  Psychologically speaking, how can a person con...  1775.0   \n",
       "82615   If unvaccinated people are causing outbreaks, ...   619.0   \n",
       "10563   How are combined vaccinations established? Who...   510.0   \n",
       "...                                                   ...     ...   \n",
       "178795                Is childhood vaccination necessary?     0.0   \n",
       "46823   Am I still protected from diseases I was vacci...     0.0   \n",
       "72488           why are vaccines not given intravenously?     0.0   \n",
       "48697   Can someone explain the difference between hom...     0.0   \n",
       "168645  Doctors and immunologists, are there any dange...     0.0   \n",
       "\n",
       "        num_comments contain_vaccin  combined_reactions  \n",
       "177230         662.0           True              4283.0  \n",
       "133287         548.0           True              2925.0  \n",
       "143663         461.0           True              2236.0  \n",
       "82615          146.0           True               765.0  \n",
       "10563           56.0           True               566.0  \n",
       "...              ...            ...                 ...  \n",
       "178795           0.0           True                 0.0  \n",
       "46823            0.0           True                 0.0  \n",
       "72488            0.0           True                 0.0  \n",
       "48697            0.0           True                 0.0  \n",
       "168645           0.0           True                 0.0  \n",
       "\n",
       "[1272 rows x 5 columns]"
      ]
     },
     "execution_count": 27,
     "metadata": {},
     "output_type": "execute_result"
    }
   ],
   "source": [
    "ask_science_data_vaccinations.sort_values(by='combined_reactions', ascending=False)"
   ]
  },
  {
   "cell_type": "code",
   "execution_count": 28,
   "metadata": {},
   "outputs": [
    {
     "data": {
      "text/html": [
       "<div>\n",
       "<style scoped>\n",
       "    .dataframe tbody tr th:only-of-type {\n",
       "        vertical-align: middle;\n",
       "    }\n",
       "\n",
       "    .dataframe tbody tr th {\n",
       "        vertical-align: top;\n",
       "    }\n",
       "\n",
       "    .dataframe thead th {\n",
       "        text-align: right;\n",
       "    }\n",
       "</style>\n",
       "<table border=\"1\" class=\"dataframe\">\n",
       "  <thead>\n",
       "    <tr style=\"text-align: right;\">\n",
       "      <th></th>\n",
       "      <th>title</th>\n",
       "      <th>ups</th>\n",
       "      <th>num_comments</th>\n",
       "      <th>contain_vaccin</th>\n",
       "      <th>combined_reactions</th>\n",
       "    </tr>\n",
       "  </thead>\n",
       "  <tbody>\n",
       "    <tr>\n",
       "      <th>477896</th>\n",
       "      <td>If we could drain the ocean, could we breath o...</td>\n",
       "      <td>18789.0</td>\n",
       "      <td>1018.0</td>\n",
       "      <td>False</td>\n",
       "      <td>19807.0</td>\n",
       "    </tr>\n",
       "    <tr>\n",
       "      <th>456459</th>\n",
       "      <td>If we detonated large enough of a nuclear bomb...</td>\n",
       "      <td>11690.0</td>\n",
       "      <td>1353.0</td>\n",
       "      <td>False</td>\n",
       "      <td>13043.0</td>\n",
       "    </tr>\n",
       "    <tr>\n",
       "      <th>461793</th>\n",
       "      <td>In terms of a percentage, how much oil is left...</td>\n",
       "      <td>9305.0</td>\n",
       "      <td>1624.0</td>\n",
       "      <td>False</td>\n",
       "      <td>10929.0</td>\n",
       "    </tr>\n",
       "    <tr>\n",
       "      <th>457979</th>\n",
       "      <td>How do you optimally place two or more Hot Poc...</td>\n",
       "      <td>9308.0</td>\n",
       "      <td>936.0</td>\n",
       "      <td>False</td>\n",
       "      <td>10244.0</td>\n",
       "    </tr>\n",
       "    <tr>\n",
       "      <th>457573</th>\n",
       "      <td>Carbon in all forests is 638 GtC. Annual carbo...</td>\n",
       "      <td>8856.0</td>\n",
       "      <td>834.0</td>\n",
       "      <td>False</td>\n",
       "      <td>9690.0</td>\n",
       "    </tr>\n",
       "    <tr>\n",
       "      <th>...</th>\n",
       "      <td>...</td>\n",
       "      <td>...</td>\n",
       "      <td>...</td>\n",
       "      <td>...</td>\n",
       "      <td>...</td>\n",
       "    </tr>\n",
       "    <tr>\n",
       "      <th>307660</th>\n",
       "      <td>Why do all the ice crystals in this freezing b...</td>\n",
       "      <td>0.0</td>\n",
       "      <td>0.0</td>\n",
       "      <td>False</td>\n",
       "      <td>0.0</td>\n",
       "    </tr>\n",
       "    <tr>\n",
       "      <th>193836</th>\n",
       "      <td>Why does the 'many paths' of a photon theory w...</td>\n",
       "      <td>0.0</td>\n",
       "      <td>0.0</td>\n",
       "      <td>False</td>\n",
       "      <td>0.0</td>\n",
       "    </tr>\n",
       "    <tr>\n",
       "      <th>11357</th>\n",
       "      <td>Paradoxically, training rats to be less \"impul...</td>\n",
       "      <td>0.0</td>\n",
       "      <td>0.0</td>\n",
       "      <td>False</td>\n",
       "      <td>0.0</td>\n",
       "    </tr>\n",
       "    <tr>\n",
       "      <th>184620</th>\n",
       "      <td>Is the earth slowly getting bigger because of ...</td>\n",
       "      <td>0.0</td>\n",
       "      <td>0.0</td>\n",
       "      <td>False</td>\n",
       "      <td>0.0</td>\n",
       "    </tr>\n",
       "    <tr>\n",
       "      <th>257699</th>\n",
       "      <td>Is there any large amount of pain for a human ...</td>\n",
       "      <td>0.0</td>\n",
       "      <td>0.0</td>\n",
       "      <td>False</td>\n",
       "      <td>0.0</td>\n",
       "    </tr>\n",
       "  </tbody>\n",
       "</table>\n",
       "<p>476988 rows × 5 columns</p>\n",
       "</div>"
      ],
      "text/plain": [
       "                                                    title      ups  \\\n",
       "477896  If we could drain the ocean, could we breath o...  18789.0   \n",
       "456459  If we detonated large enough of a nuclear bomb...  11690.0   \n",
       "461793  In terms of a percentage, how much oil is left...   9305.0   \n",
       "457979  How do you optimally place two or more Hot Poc...   9308.0   \n",
       "457573  Carbon in all forests is 638 GtC. Annual carbo...   8856.0   \n",
       "...                                                   ...      ...   \n",
       "307660  Why do all the ice crystals in this freezing b...      0.0   \n",
       "193836  Why does the 'many paths' of a photon theory w...      0.0   \n",
       "11357   Paradoxically, training rats to be less \"impul...      0.0   \n",
       "184620  Is the earth slowly getting bigger because of ...      0.0   \n",
       "257699  Is there any large amount of pain for a human ...      0.0   \n",
       "\n",
       "        num_comments contain_vaccin  combined_reactions  \n",
       "477896        1018.0          False             19807.0  \n",
       "456459        1353.0          False             13043.0  \n",
       "461793        1624.0          False             10929.0  \n",
       "457979         936.0          False             10244.0  \n",
       "457573         834.0          False              9690.0  \n",
       "...              ...            ...                 ...  \n",
       "307660           0.0          False                 0.0  \n",
       "193836           0.0          False                 0.0  \n",
       "11357            0.0          False                 0.0  \n",
       "184620           0.0          False                 0.0  \n",
       "257699           0.0          False                 0.0  \n",
       "\n",
       "[476988 rows x 5 columns]"
      ]
     },
     "execution_count": 28,
     "metadata": {},
     "output_type": "execute_result"
    }
   ],
   "source": [
    "ask_science_data_no_vaccinations.sort_values(by='combined_reactions', ascending=False)"
   ]
  },
  {
   "cell_type": "code",
   "execution_count": 33,
   "metadata": {},
   "outputs": [
    {
     "data": {
      "text/plain": [
       "13.723270440251572"
      ]
     },
     "execution_count": 33,
     "metadata": {},
     "output_type": "execute_result"
    }
   ],
   "source": [
    "ask_science_data_vaccinations['combined_reactions'].mean()\n"
   ]
  },
  {
   "cell_type": "code",
   "execution_count": 32,
   "metadata": {},
   "outputs": [
    {
     "data": {
      "text/plain": [
       "16.58500842788498"
      ]
     },
     "execution_count": 32,
     "metadata": {},
     "output_type": "execute_result"
    }
   ],
   "source": [
    "ask_science_data_no_vaccinations['combined_reactions'].mean()"
   ]
  },
  {
   "cell_type": "code",
   "execution_count": 34,
   "metadata": {},
   "outputs": [
    {
     "data": {
      "text/plain": [
       "count    1272.000000\n",
       "mean       13.723270\n",
       "std       162.056708\n",
       "min         0.000000\n",
       "25%         1.000000\n",
       "50%         1.000000\n",
       "75%         2.000000\n",
       "max      4283.000000\n",
       "Name: combined_reactions, dtype: float64"
      ]
     },
     "execution_count": 34,
     "metadata": {},
     "output_type": "execute_result"
    }
   ],
   "source": [
    "ask_science_data_vaccinations['combined_reactions'].describe()"
   ]
  },
  {
   "cell_type": "code",
   "execution_count": 35,
   "metadata": {},
   "outputs": [
    {
     "data": {
      "text/plain": [
       "count    476988.000000\n",
       "mean         16.585008\n",
       "std         197.908268\n",
       "min           0.000000\n",
       "25%           1.000000\n",
       "50%           1.000000\n",
       "75%           2.000000\n",
       "max       19807.000000\n",
       "Name: combined_reactions, dtype: float64"
      ]
     },
     "execution_count": 35,
     "metadata": {},
     "output_type": "execute_result"
    }
   ],
   "source": [
    "ask_science_data_no_vaccinations['combined_reactions'].describe()"
   ]
  }
 ],
 "metadata": {
  "kernelspec": {
   "display_name": "Python 3",
   "language": "python",
   "name": "python3"
  },
  "language_info": {
   "codemirror_mode": {
    "name": "ipython",
    "version": 3
   },
   "file_extension": ".py",
   "mimetype": "text/x-python",
   "name": "python",
   "nbconvert_exporter": "python",
   "pygments_lexer": "ipython3",
   "version": "3.8.5"
  }
 },
 "nbformat": 4,
 "nbformat_minor": 4
}
